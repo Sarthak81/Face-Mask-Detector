{
  "nbformat": 4,
  "nbformat_minor": 0,
  "metadata": {
    "colab": {
      "name": "maskDetector.ipynb",
      "provenance": [],
      "collapsed_sections": [],
      "include_colab_link": true
    },
    "kernelspec": {
      "display_name": "Python 3",
      "name": "python3"
    },
    "language_info": {
      "name": "python"
    },
    "accelerator": "GPU"
  },
  "cells": [
    {
      "cell_type": "markdown",
      "metadata": {
        "id": "view-in-github",
        "colab_type": "text"
      },
      "source": [
        "<a href=\"https://colab.research.google.com/github/Sarthak81/Face-Mask-Detector/blob/main/maskDetector.ipynb\" target=\"_parent\"><img src=\"https://colab.research.google.com/assets/colab-badge.svg\" alt=\"Open In Colab\"/></a>"
      ]
    },
    {
      "cell_type": "code",
      "metadata": {
        "colab": {
          "base_uri": "https://localhost:8080/"
        },
        "id": "iGmmyrsflX1W",
        "outputId": "8bfae2b5-83aa-4e5e-da37-bff8bca94694"
      },
      "source": [
        "!pip install tensorflow"
      ],
      "execution_count": null,
      "outputs": [
        {
          "output_type": "stream",
          "text": [
            "Requirement already satisfied: tensorflow in /usr/local/lib/python3.7/dist-packages (2.4.1)\n",
            "Requirement already satisfied: absl-py~=0.10 in /usr/local/lib/python3.7/dist-packages (from tensorflow) (0.12.0)\n",
            "Requirement already satisfied: opt-einsum~=3.3.0 in /usr/local/lib/python3.7/dist-packages (from tensorflow) (3.3.0)\n",
            "Requirement already satisfied: typing-extensions~=3.7.4 in /usr/local/lib/python3.7/dist-packages (from tensorflow) (3.7.4.3)\n",
            "Requirement already satisfied: wrapt~=1.12.1 in /usr/local/lib/python3.7/dist-packages (from tensorflow) (1.12.1)\n",
            "Requirement already satisfied: protobuf>=3.9.2 in /usr/local/lib/python3.7/dist-packages (from tensorflow) (3.12.4)\n",
            "Requirement already satisfied: tensorflow-estimator<2.5.0,>=2.4.0 in /usr/local/lib/python3.7/dist-packages (from tensorflow) (2.4.0)\n",
            "Requirement already satisfied: six~=1.15.0 in /usr/local/lib/python3.7/dist-packages (from tensorflow) (1.15.0)\n",
            "Requirement already satisfied: termcolor~=1.1.0 in /usr/local/lib/python3.7/dist-packages (from tensorflow) (1.1.0)\n",
            "Requirement already satisfied: numpy~=1.19.2 in /usr/local/lib/python3.7/dist-packages (from tensorflow) (1.19.5)\n",
            "Requirement already satisfied: tensorboard~=2.4 in /usr/local/lib/python3.7/dist-packages (from tensorflow) (2.4.1)\n",
            "Requirement already satisfied: h5py~=2.10.0 in /usr/local/lib/python3.7/dist-packages (from tensorflow) (2.10.0)\n",
            "Requirement already satisfied: grpcio~=1.32.0 in /usr/local/lib/python3.7/dist-packages (from tensorflow) (1.32.0)\n",
            "Requirement already satisfied: gast==0.3.3 in /usr/local/lib/python3.7/dist-packages (from tensorflow) (0.3.3)\n",
            "Requirement already satisfied: astunparse~=1.6.3 in /usr/local/lib/python3.7/dist-packages (from tensorflow) (1.6.3)\n",
            "Requirement already satisfied: google-pasta~=0.2 in /usr/local/lib/python3.7/dist-packages (from tensorflow) (0.2.0)\n",
            "Requirement already satisfied: keras-preprocessing~=1.1.2 in /usr/local/lib/python3.7/dist-packages (from tensorflow) (1.1.2)\n",
            "Requirement already satisfied: wheel~=0.35 in /usr/local/lib/python3.7/dist-packages (from tensorflow) (0.36.2)\n",
            "Requirement already satisfied: flatbuffers~=1.12.0 in /usr/local/lib/python3.7/dist-packages (from tensorflow) (1.12)\n",
            "Requirement already satisfied: setuptools in /usr/local/lib/python3.7/dist-packages (from protobuf>=3.9.2->tensorflow) (54.2.0)\n",
            "Requirement already satisfied: google-auth<2,>=1.6.3 in /usr/local/lib/python3.7/dist-packages (from tensorboard~=2.4->tensorflow) (1.28.0)\n",
            "Requirement already satisfied: google-auth-oauthlib<0.5,>=0.4.1 in /usr/local/lib/python3.7/dist-packages (from tensorboard~=2.4->tensorflow) (0.4.3)\n",
            "Requirement already satisfied: requests<3,>=2.21.0 in /usr/local/lib/python3.7/dist-packages (from tensorboard~=2.4->tensorflow) (2.23.0)\n",
            "Requirement already satisfied: tensorboard-plugin-wit>=1.6.0 in /usr/local/lib/python3.7/dist-packages (from tensorboard~=2.4->tensorflow) (1.8.0)\n",
            "Requirement already satisfied: werkzeug>=0.11.15 in /usr/local/lib/python3.7/dist-packages (from tensorboard~=2.4->tensorflow) (1.0.1)\n",
            "Requirement already satisfied: markdown>=2.6.8 in /usr/local/lib/python3.7/dist-packages (from tensorboard~=2.4->tensorflow) (3.3.4)\n",
            "Requirement already satisfied: rsa<5,>=3.1.4; python_version >= \"3.6\" in /usr/local/lib/python3.7/dist-packages (from google-auth<2,>=1.6.3->tensorboard~=2.4->tensorflow) (4.7.2)\n",
            "Requirement already satisfied: cachetools<5.0,>=2.0.0 in /usr/local/lib/python3.7/dist-packages (from google-auth<2,>=1.6.3->tensorboard~=2.4->tensorflow) (4.2.1)\n",
            "Requirement already satisfied: pyasn1-modules>=0.2.1 in /usr/local/lib/python3.7/dist-packages (from google-auth<2,>=1.6.3->tensorboard~=2.4->tensorflow) (0.2.8)\n",
            "Requirement already satisfied: requests-oauthlib>=0.7.0 in /usr/local/lib/python3.7/dist-packages (from google-auth-oauthlib<0.5,>=0.4.1->tensorboard~=2.4->tensorflow) (1.3.0)\n",
            "Requirement already satisfied: chardet<4,>=3.0.2 in /usr/local/lib/python3.7/dist-packages (from requests<3,>=2.21.0->tensorboard~=2.4->tensorflow) (3.0.4)\n",
            "Requirement already satisfied: idna<3,>=2.5 in /usr/local/lib/python3.7/dist-packages (from requests<3,>=2.21.0->tensorboard~=2.4->tensorflow) (2.10)\n",
            "Requirement already satisfied: certifi>=2017.4.17 in /usr/local/lib/python3.7/dist-packages (from requests<3,>=2.21.0->tensorboard~=2.4->tensorflow) (2020.12.5)\n",
            "Requirement already satisfied: urllib3!=1.25.0,!=1.25.1,<1.26,>=1.21.1 in /usr/local/lib/python3.7/dist-packages (from requests<3,>=2.21.0->tensorboard~=2.4->tensorflow) (1.24.3)\n",
            "Requirement already satisfied: importlib-metadata; python_version < \"3.8\" in /usr/local/lib/python3.7/dist-packages (from markdown>=2.6.8->tensorboard~=2.4->tensorflow) (3.8.1)\n",
            "Requirement already satisfied: pyasn1>=0.1.3 in /usr/local/lib/python3.7/dist-packages (from rsa<5,>=3.1.4; python_version >= \"3.6\"->google-auth<2,>=1.6.3->tensorboard~=2.4->tensorflow) (0.4.8)\n",
            "Requirement already satisfied: oauthlib>=3.0.0 in /usr/local/lib/python3.7/dist-packages (from requests-oauthlib>=0.7.0->google-auth-oauthlib<0.5,>=0.4.1->tensorboard~=2.4->tensorflow) (3.1.0)\n",
            "Requirement already satisfied: zipp>=0.5 in /usr/local/lib/python3.7/dist-packages (from importlib-metadata; python_version < \"3.8\"->markdown>=2.6.8->tensorboard~=2.4->tensorflow) (3.4.1)\n"
          ],
          "name": "stdout"
        }
      ]
    },
    {
      "cell_type": "code",
      "metadata": {
        "colab": {
          "base_uri": "https://localhost:8080/"
        },
        "id": "_ouDGMhel-iX",
        "outputId": "f930e30b-7477-4d5f-d2f6-3693c734182d"
      },
      "source": [
        "import tensorflow as tf\n",
        "print(tf.__version__)"
      ],
      "execution_count": null,
      "outputs": [
        {
          "output_type": "stream",
          "text": [
            "2.4.1\n"
          ],
          "name": "stdout"
        }
      ]
    },
    {
      "cell_type": "code",
      "metadata": {
        "id": "mfMNkjWImjkG"
      },
      "source": [
        "from tensorflow.keras.layers import Input, Lambda, Dense, Flatten\n",
        "from tensorflow.keras.models import Model\n",
        "from tensorflow.keras.applications.inception_v3 import InceptionV3\n",
        "#from keras.applications.vgg16 import VGG16\n",
        "from tensorflow.keras.applications.inception_v3 import preprocess_input\n",
        "from tensorflow.keras.preprocessing import image\n",
        "from tensorflow.keras.preprocessing.image import ImageDataGenerator,load_img\n",
        "from tensorflow.keras.models import Sequential\n",
        "import numpy as np\n",
        "from glob import glob\n"
      ],
      "execution_count": null,
      "outputs": []
    },
    {
      "cell_type": "code",
      "metadata": {
        "id": "dwPkenkTgcBo"
      },
      "source": [
        "IMAGE_SIZE = [224, 224]\n",
        "\n",
        "train_path = '/content/drive/MyDrive/Dataset/train/train'\n",
        "valid_path = '/content/drive/MyDrive/Dataset/test'"
      ],
      "execution_count": null,
      "outputs": []
    },
    {
      "cell_type": "code",
      "metadata": {
        "id": "2bmKXqljhCpL",
        "colab": {
          "base_uri": "https://localhost:8080/"
        },
        "outputId": "4f028a15-77c4-430d-ca0d-de021e0d8c16"
      },
      "source": [
        "inception = InceptionV3(input_shape=IMAGE_SIZE + [3], weights='imagenet', include_top=False)"
      ],
      "execution_count": null,
      "outputs": [
        {
          "output_type": "stream",
          "text": [
            "Downloading data from https://storage.googleapis.com/tensorflow/keras-applications/inception_v3/inception_v3_weights_tf_dim_ordering_tf_kernels_notop.h5\n",
            "87916544/87910968 [==============================] - 1s 0us/step\n"
          ],
          "name": "stdout"
        }
      ]
    },
    {
      "cell_type": "code",
      "metadata": {
        "id": "NWVUoPgshJF4"
      },
      "source": [
        "for layer in inception.layers:\n",
        "    layer.trainable = False"
      ],
      "execution_count": null,
      "outputs": []
    },
    {
      "cell_type": "code",
      "metadata": {
        "id": "8QVSe-Q8hcN3"
      },
      "source": [
        "folders = glob('/content/drive/MyDrive/Dataset/train/train/*')"
      ],
      "execution_count": null,
      "outputs": []
    },
    {
      "cell_type": "code",
      "metadata": {
        "colab": {
          "base_uri": "https://localhost:8080/"
        },
        "id": "FEaAXyHFhuy6",
        "outputId": "5f06736a-fcd7-423c-ed79-35484421dc27"
      },
      "source": [
        "folders"
      ],
      "execution_count": null,
      "outputs": [
        {
          "output_type": "execute_result",
          "data": {
            "text/plain": [
              "['/content/drive/MyDrive/Dataset/train/train/with_mask',\n",
              " '/content/drive/MyDrive/Dataset/train/train/without_mask']"
            ]
          },
          "metadata": {
            "tags": []
          },
          "execution_count": 8
        }
      ]
    },
    {
      "cell_type": "code",
      "metadata": {
        "id": "bRetH4jyounT"
      },
      "source": [
        "x = Flatten()(inception.output)"
      ],
      "execution_count": null,
      "outputs": []
    },
    {
      "cell_type": "code",
      "metadata": {
        "id": "3ojF1hd3ozvP"
      },
      "source": [
        "prediction = Dense(len(folders), activation='sigmoid')(x)\n",
        "\n",
        "\n",
        "model = Model(inputs=inception.input, outputs=prediction)"
      ],
      "execution_count": null,
      "outputs": []
    },
    {
      "cell_type": "code",
      "metadata": {
        "id": "TP42jTvuo-kj"
      },
      "source": [
        "model.compile(\n",
        "  loss='binary_crossentropy',\n",
        "  optimizer='adam',\n",
        "  metrics=['accuracy']\n",
        ")"
      ],
      "execution_count": null,
      "outputs": []
    },
    {
      "cell_type": "code",
      "metadata": {
        "id": "nzmpWLbppC2X"
      },
      "source": [
        "from tensorflow.keras.preprocessing.image import ImageDataGenerator\n",
        "\n",
        "train_datagen = ImageDataGenerator(rescale = 1./255,\n",
        "                                   shear_range = 0.2,\n",
        "                                   zoom_range = 0.2,\n",
        "                                   horizontal_flip = True)\n",
        "\n",
        "test_datagen = ImageDataGenerator(rescale = 1./255)"
      ],
      "execution_count": null,
      "outputs": []
    },
    {
      "cell_type": "code",
      "metadata": {
        "colab": {
          "base_uri": "https://localhost:8080/"
        },
        "id": "jutukU9ypJk9",
        "outputId": "0a653216-f94e-49ed-eaae-ed880e30a90d"
      },
      "source": [
        "training_set = train_datagen.flow_from_directory('/content/drive/MyDrive/Dataset/train/train',\n",
        "                                                 target_size = (224, 224),\n",
        "                                                 batch_size = 16)"
      ],
      "execution_count": null,
      "outputs": [
        {
          "output_type": "stream",
          "text": [
            "Found 1315 images belonging to 2 classes.\n"
          ],
          "name": "stdout"
        }
      ]
    },
    {
      "cell_type": "code",
      "metadata": {
        "colab": {
          "base_uri": "https://localhost:8080/"
        },
        "id": "uPPizYGCpt7Q",
        "outputId": "b2e42648-b451-4510-9714-569e7ef1f2eb"
      },
      "source": [
        "\n",
        "test_set = test_datagen.flow_from_directory('/content/drive/MyDrive/Dataset/test',\n",
        "                                            target_size = (224, 224),\n",
        "                                            batch_size = 16)"
      ],
      "execution_count": null,
      "outputs": [
        {
          "output_type": "stream",
          "text": [
            "Found 194 images belonging to 2 classes.\n"
          ],
          "name": "stdout"
        }
      ]
    },
    {
      "cell_type": "code",
      "metadata": {
        "colab": {
          "base_uri": "https://localhost:8080/"
        },
        "id": "ogoj2LCGp34q",
        "outputId": "0ba099fc-c3ea-44e8-a1bd-3d9529431816"
      },
      "source": [
        "r = model.fit_generator(\n",
        "  training_set,\n",
        "  validation_data=test_set,\n",
        "  epochs=10\n",
        "  )"
      ],
      "execution_count": null,
      "outputs": [
        {
          "output_type": "stream",
          "text": [
            "/usr/local/lib/python3.7/dist-packages/tensorflow/python/keras/engine/training.py:1844: UserWarning: `Model.fit_generator` is deprecated and will be removed in a future version. Please use `Model.fit`, which supports generators.\n",
            "  warnings.warn('`Model.fit_generator` is deprecated and '\n"
          ],
          "name": "stderr"
        },
        {
          "output_type": "stream",
          "text": [
            "Epoch 1/10\n",
            "83/83 [==============================] - 718s 8s/step - loss: 0.5209 - accuracy: 0.9304 - val_loss: 0.0220 - val_accuracy: 1.0000\n",
            "Epoch 2/10\n",
            "83/83 [==============================] - 27s 324ms/step - loss: 0.0575 - accuracy: 0.9897 - val_loss: 0.0022 - val_accuracy: 1.0000\n",
            "Epoch 3/10\n",
            "83/83 [==============================] - 27s 322ms/step - loss: 0.0253 - accuracy: 0.9982 - val_loss: 0.0479 - val_accuracy: 0.9948\n",
            "Epoch 4/10\n",
            "83/83 [==============================] - 27s 325ms/step - loss: 0.0031 - accuracy: 1.0000 - val_loss: 0.0428 - val_accuracy: 0.9948\n",
            "Epoch 5/10\n",
            "83/83 [==============================] - 26s 318ms/step - loss: 0.0114 - accuracy: 0.9982 - val_loss: 0.0724 - val_accuracy: 0.9897\n",
            "Epoch 6/10\n",
            "83/83 [==============================] - 26s 317ms/step - loss: 0.0500 - accuracy: 0.9952 - val_loss: 0.0175 - val_accuracy: 1.0000\n",
            "Epoch 7/10\n",
            "83/83 [==============================] - 27s 323ms/step - loss: 0.0063 - accuracy: 1.0000 - val_loss: 0.0137 - val_accuracy: 1.0000\n",
            "Epoch 8/10\n",
            "83/83 [==============================] - 26s 317ms/step - loss: 0.0100 - accuracy: 1.0000 - val_loss: 0.0191 - val_accuracy: 1.0000\n",
            "Epoch 9/10\n",
            "83/83 [==============================] - 27s 321ms/step - loss: 0.0021 - accuracy: 1.0000 - val_loss: 0.6714 - val_accuracy: 0.9794\n",
            "Epoch 10/10\n",
            "83/83 [==============================] - 26s 317ms/step - loss: 0.0987 - accuracy: 0.9925 - val_loss: 0.0855 - val_accuracy: 0.9948\n"
          ],
          "name": "stdout"
        }
      ]
    },
    {
      "cell_type": "code",
      "metadata": {
        "id": "bcgwcqn4fDiE"
      },
      "source": [
        "import matplotlib.pyplot as plt"
      ],
      "execution_count": null,
      "outputs": []
    },
    {
      "cell_type": "code",
      "metadata": {
        "colab": {
          "base_uri": "https://localhost:8080/",
          "height": 533
        },
        "id": "6NhpM5vgfG9D",
        "outputId": "d35154b5-18ef-414d-b1e4-bd83201b93c7"
      },
      "source": [
        "plt.plot(r.history['loss'], label='train loss')\n",
        "plt.plot(r.history['val_loss'], label='val loss')\n",
        "plt.legend()\n",
        "plt.show()\n",
        "plt.savefig('LossVal_loss')\n",
        "\n",
        "# plot the accuracy\n",
        "plt.plot(r.history['accuracy'], label='train acc')\n",
        "plt.plot(r.history['val_accuracy'], label='val acc')\n",
        "plt.legend()\n",
        "plt.show()\n",
        "plt.savefig('AccVal_acc')"
      ],
      "execution_count": null,
      "outputs": [
        {
          "output_type": "display_data",
          "data": {
            "image/png": "[encoded data removed]",
            "text/plain": [
              "<Figure size 432x288 with 1 Axes>"
            ]
          },
          "metadata": {
            "tags": [],
            "needs_background": "light"
          }
        },
        {
          "output_type": "display_data",
          "data": {
            "image/png": "[encoded data removed]",
            "text/plain": [
              "<Figure size 432x288 with 1 Axes>"
            ]
          },
          "metadata": {
            "tags": [],
            "needs_background": "light"
          }
        },
        {
          "output_type": "display_data",
          "data": {
            "text/plain": [
              "<Figure size 432x288 with 0 Axes>"
            ]
          },
          "metadata": {
            "tags": []
          }
        }
      ]
    },
    {
      "cell_type": "code",
      "metadata": {
        "id": "GgRLmdtbhR3G"
      },
      "source": [
        "from tensorflow.keras.models import load_model\n",
        "\n",
        "model.save('model_inception.h5')"
      ],
      "execution_count": null,
      "outputs": []
    },
    {
      "cell_type": "code",
      "metadata": {
        "id": "EtNiZPc_hZpO"
      },
      "source": [
        "y_pred = model.predict(test_set)"
      ],
      "execution_count": null,
      "outputs": []
    },
    {
      "cell_type": "code",
      "metadata": {
        "colab": {
          "base_uri": "https://localhost:8080/"
        },
        "id": "19jfB0LRhdj5",
        "outputId": "0d2978b6-a64f-42e2-c4ef-18765782a3e1"
      },
      "source": [
        "y_pred"
      ],
      "execution_count": null,
      "outputs": [
        {
          "output_type": "execute_result",
          "data": {
            "text/plain": [
              "array([[4.4819551e-11, 1.0000000e+00],\n",
              "       [1.9706431e-30, 1.0000000e+00],\n",
              "       [1.0000000e+00, 0.0000000e+00],\n",
              "       [3.0766319e-07, 8.4767449e-01],\n",
              "       [1.0000000e+00, 0.0000000e+00],\n",
              "       [1.0000000e+00, 0.0000000e+00],\n",
              "       [2.9360198e-34, 1.0000000e+00],\n",
              "       [1.0000000e+00, 7.1421322e-37],\n",
              "       [1.0000000e+00, 1.7401395e-25],\n",
              "       [1.0000000e+00, 0.0000000e+00],\n",
              "       [1.0000000e+00, 0.0000000e+00],\n",
              "       [1.0000000e+00, 0.0000000e+00],\n",
              "       [1.0000000e+00, 1.7920967e-21],\n",
              "       [1.0000000e+00, 0.0000000e+00],\n",
              "       [1.0000000e+00, 0.0000000e+00],\n",
              "       [5.8572729e-24, 1.0000000e+00],\n",
              "       [7.5466822e-20, 1.0000000e+00],\n",
              "       [2.3376579e-05, 9.9996579e-01],\n",
              "       [1.0000000e+00, 0.0000000e+00],\n",
              "       [1.0000000e+00, 0.0000000e+00],\n",
              "       [1.0000000e+00, 0.0000000e+00],\n",
              "       [1.0000000e+00, 0.0000000e+00],\n",
              "       [1.0000000e+00, 0.0000000e+00],\n",
              "       [2.9374800e-24, 1.0000000e+00],\n",
              "       [1.0000000e+00, 0.0000000e+00],\n",
              "       [2.2331214e-01, 2.8119059e-16],\n",
              "       [1.0000000e+00, 0.0000000e+00],\n",
              "       [1.0000000e+00, 0.0000000e+00],\n",
              "       [1.0000000e+00, 1.8574399e-20],\n",
              "       [1.0000000e+00, 0.0000000e+00],\n",
              "       [3.2388486e-20, 1.0000000e+00],\n",
              "       [2.2528987e-30, 1.0000000e+00],\n",
              "       [4.3695506e-20, 9.9999988e-01],\n",
              "       [2.2405206e-17, 1.0000000e+00],\n",
              "       [1.0000000e+00, 0.0000000e+00],\n",
              "       [1.0000000e+00, 0.0000000e+00],\n",
              "       [4.4248909e-26, 1.0000000e+00],\n",
              "       [1.0000000e+00, 2.0735973e-25],\n",
              "       [1.0000000e+00, 0.0000000e+00],\n",
              "       [1.0000000e+00, 0.0000000e+00],\n",
              "       [1.3113290e-24, 1.0000000e+00],\n",
              "       [1.0000000e+00, 1.0327266e-25],\n",
              "       [1.0000000e+00, 0.0000000e+00],\n",
              "       [2.4508678e-23, 1.0000000e+00],\n",
              "       [5.5541632e-27, 1.0000000e+00],\n",
              "       [3.8536368e-24, 1.0000000e+00],\n",
              "       [1.0000000e+00, 0.0000000e+00],\n",
              "       [6.6148044e-20, 1.0000000e+00],\n",
              "       [3.0758725e-15, 1.0000000e+00],\n",
              "       [9.9999976e-01, 4.3940943e-25],\n",
              "       [2.6852892e-24, 1.0000000e+00],\n",
              "       [8.7815550e-37, 1.0000000e+00],\n",
              "       [1.8523098e-35, 1.0000000e+00],\n",
              "       [2.4079030e-25, 1.0000000e+00],\n",
              "       [2.5702567e-34, 1.0000000e+00],\n",
              "       [1.0000000e+00, 0.0000000e+00],\n",
              "       [5.3608764e-21, 9.9382728e-01],\n",
              "       [1.0000000e+00, 0.0000000e+00],\n",
              "       [1.0000000e+00, 2.5166101e-37],\n",
              "       [3.5629481e-29, 1.0000000e+00],\n",
              "       [1.8975240e-35, 1.0000000e+00],\n",
              "       [1.2411372e-19, 1.0000000e+00],\n",
              "       [1.0000000e+00, 0.0000000e+00],\n",
              "       [1.5464549e-25, 1.0000000e+00],\n",
              "       [3.6275545e-23, 1.0000000e+00],\n",
              "       [8.3803666e-17, 1.0000000e+00],\n",
              "       [1.0000000e+00, 0.0000000e+00],\n",
              "       [1.0000000e+00, 0.0000000e+00],\n",
              "       [1.0000000e+00, 4.2969972e-37],\n",
              "       [3.8808961e-18, 1.0000000e+00],\n",
              "       [1.0000000e+00, 0.0000000e+00],\n",
              "       [1.0000000e+00, 6.5580101e-31],\n",
              "       [1.0000000e+00, 7.2580214e-26],\n",
              "       [1.0000000e+00, 0.0000000e+00],\n",
              "       [1.0000000e+00, 0.0000000e+00],\n",
              "       [1.0000000e+00, 0.0000000e+00],\n",
              "       [4.6535811e-20, 1.0000000e+00],\n",
              "       [1.0000000e+00, 0.0000000e+00],\n",
              "       [1.0000000e+00, 7.3788347e-29],\n",
              "       [1.4044760e-23, 1.0000000e+00],\n",
              "       [1.0000000e+00, 0.0000000e+00],\n",
              "       [1.0000000e+00, 3.3111528e-37],\n",
              "       [1.0000000e+00, 2.5652638e-17],\n",
              "       [1.0000000e+00, 0.0000000e+00],\n",
              "       [1.0000000e+00, 0.0000000e+00],\n",
              "       [4.0288140e-35, 1.0000000e+00],\n",
              "       [5.8632908e-15, 1.0000000e+00],\n",
              "       [1.0003879e-25, 1.0000000e+00],\n",
              "       [1.0000000e+00, 0.0000000e+00],\n",
              "       [1.0000000e+00, 0.0000000e+00],\n",
              "       [2.9388600e-38, 1.0000000e+00],\n",
              "       [1.0000000e+00, 0.0000000e+00],\n",
              "       [2.8256955e-28, 1.0000000e+00],\n",
              "       [1.0000000e+00, 0.0000000e+00],\n",
              "       [8.4793152e-24, 2.0529719e-06],\n",
              "       [1.0000000e+00, 0.0000000e+00],\n",
              "       [1.0000000e+00, 0.0000000e+00],\n",
              "       [3.4174398e-33, 1.0000000e+00],\n",
              "       [1.0000000e+00, 0.0000000e+00],\n",
              "       [1.0000000e+00, 6.2911175e-36],\n",
              "       [1.0000000e+00, 0.0000000e+00],\n",
              "       [1.3224897e-34, 1.0000000e+00],\n",
              "       [1.0000000e+00, 0.0000000e+00],\n",
              "       [1.3944374e-26, 1.0000000e+00],\n",
              "       [1.0000000e+00, 0.0000000e+00],\n",
              "       [1.0000000e+00, 0.0000000e+00],\n",
              "       [4.6969061e-18, 1.0000000e+00],\n",
              "       [1.6116513e-25, 1.0000000e+00],\n",
              "       [1.0000000e+00, 0.0000000e+00],\n",
              "       [1.0000000e+00, 0.0000000e+00],\n",
              "       [1.0000000e+00, 0.0000000e+00],\n",
              "       [9.6875438e-20, 1.0000000e+00],\n",
              "       [2.7817748e-25, 1.0000000e+00],\n",
              "       [2.3017783e-17, 1.0000000e+00],\n",
              "       [1.5988422e-31, 1.0000000e+00],\n",
              "       [1.0000000e+00, 0.0000000e+00],\n",
              "       [1.0000000e+00, 9.7112091e-38],\n",
              "       [9.2268416e-33, 1.0000000e+00],\n",
              "       [4.6259786e-24, 1.0000000e+00],\n",
              "       [1.4665262e-15, 1.0000000e+00],\n",
              "       [0.0000000e+00, 1.0000000e+00],\n",
              "       [1.0000000e+00, 0.0000000e+00],\n",
              "       [5.8137595e-22, 1.0000000e+00],\n",
              "       [1.0000000e+00, 0.0000000e+00],\n",
              "       [1.0000000e+00, 0.0000000e+00],\n",
              "       [1.0000000e+00, 3.2743641e-36],\n",
              "       [7.6939166e-19, 1.0000000e+00],\n",
              "       [1.6703454e-16, 1.0000000e+00],\n",
              "       [1.5509162e-24, 1.0000000e+00],\n",
              "       [1.0000000e+00, 5.4986680e-30],\n",
              "       [1.0000000e+00, 0.0000000e+00],\n",
              "       [6.4068874e-20, 1.0000000e+00],\n",
              "       [2.2658915e-19, 1.0000000e+00],\n",
              "       [1.0000000e+00, 0.0000000e+00],\n",
              "       [1.0000000e+00, 0.0000000e+00],\n",
              "       [5.6522709e-19, 1.0000000e+00],\n",
              "       [3.6798472e-12, 1.0000000e+00],\n",
              "       [2.6733833e-23, 1.0000000e+00],\n",
              "       [1.0000000e+00, 1.2470337e-38],\n",
              "       [8.6305406e-31, 1.0000000e+00],\n",
              "       [2.7964203e-36, 1.0000000e+00],\n",
              "       [1.0000000e+00, 0.0000000e+00],\n",
              "       [1.1997871e-30, 1.0000000e+00],\n",
              "       [8.9895903e-16, 1.0000000e+00],\n",
              "       [1.0000000e+00, 0.0000000e+00],\n",
              "       [3.6295853e-25, 1.0000000e+00],\n",
              "       [9.7711634e-20, 1.0000000e+00],\n",
              "       [1.0000000e+00, 0.0000000e+00],\n",
              "       [1.0000000e+00, 7.3789984e-38],\n",
              "       [5.1868291e-29, 1.0000000e+00],\n",
              "       [1.0000000e+00, 0.0000000e+00],\n",
              "       [1.0000000e+00, 0.0000000e+00],\n",
              "       [1.0000000e+00, 0.0000000e+00],\n",
              "       [4.5413138e-18, 1.0000000e+00],\n",
              "       [2.1761076e-16, 1.7999063e-01],\n",
              "       [7.6725775e-27, 1.0000000e+00],\n",
              "       [1.0000000e+00, 0.0000000e+00],\n",
              "       [1.0000000e+00, 0.0000000e+00],\n",
              "       [4.7200090e-16, 9.9999952e-01],\n",
              "       [1.0000000e+00, 0.0000000e+00],\n",
              "       [5.5894416e-21, 1.0000000e+00],\n",
              "       [4.4450246e-18, 1.0000000e+00],\n",
              "       [9.7458716e-23, 1.0000000e+00],\n",
              "       [2.3381248e-24, 1.0000000e+00],\n",
              "       [1.0000000e+00, 0.0000000e+00],\n",
              "       [1.0000000e+00, 2.6577450e-30],\n",
              "       [4.6093182e-15, 1.0000000e+00],\n",
              "       [1.0000000e+00, 0.0000000e+00],\n",
              "       [1.2673385e-23, 1.0000000e+00],\n",
              "       [5.1230614e-20, 1.0000000e+00],\n",
              "       [2.5551075e-24, 1.0000000e+00],\n",
              "       [5.8553578e-22, 1.0000000e+00],\n",
              "       [1.0000000e+00, 0.0000000e+00],\n",
              "       [5.5661780e-16, 1.0000000e+00],\n",
              "       [1.0000000e+00, 0.0000000e+00],\n",
              "       [3.6989131e-18, 1.0000000e+00],\n",
              "       [1.5979589e-15, 1.0000000e+00],\n",
              "       [9.3613248e-24, 1.0000000e+00],\n",
              "       [9.4195435e-22, 1.0000000e+00],\n",
              "       [4.7144630e-25, 1.0000000e+00],\n",
              "       [3.8953939e-22, 1.0000000e+00],\n",
              "       [1.0000000e+00, 0.0000000e+00],\n",
              "       [1.0000000e+00, 1.6854394e-37],\n",
              "       [5.4276717e-28, 1.0000000e+00],\n",
              "       [1.0000000e+00, 6.8425781e-37],\n",
              "       [1.0226773e-35, 1.0000000e+00],\n",
              "       [0.0000000e+00, 1.0000000e+00],\n",
              "       [1.0153262e-21, 1.0000000e+00],\n",
              "       [1.0000000e+00, 0.0000000e+00],\n",
              "       [5.0749695e-12, 1.0000000e+00],\n",
              "       [8.1947152e-29, 1.0000000e+00],\n",
              "       [4.8732026e-38, 1.0000000e+00],\n",
              "       [2.8073189e-31, 1.0000000e+00],\n",
              "       [1.8224282e-23, 1.0000000e+00]], dtype=float32)"
            ]
          },
          "metadata": {
            "tags": []
          },
          "execution_count": 41
        }
      ]
    },
    {
      "cell_type": "code",
      "metadata": {
        "id": "XgDZ_i3VnVbP"
      },
      "source": [
        "import numpy as np\n",
        "y_pred = np.argmax(y_pred, axis=1)"
      ],
      "execution_count": null,
      "outputs": []
    },
    {
      "cell_type": "code",
      "metadata": {
        "colab": {
          "base_uri": "https://localhost:8080/"
        },
        "id": "WudQuUYunYIP",
        "outputId": "ad230d76-7804-477f-d417-4d64fdc42640"
      },
      "source": [
        "y_pred"
      ],
      "execution_count": null,
      "outputs": [
        {
          "output_type": "execute_result",
          "data": {
            "text/plain": [
              "array([1, 1, 0, 1, 0, 0, 1, 0, 0, 0, 0, 0, 0, 0, 0, 1, 1, 1, 0, 0, 0, 0,\n",
              "       0, 1, 0, 0, 0, 0, 0, 0, 1, 1, 1, 1, 0, 0, 1, 0, 0, 0, 1, 0, 0, 1,\n",
              "       1, 1, 0, 1, 1, 0, 1, 1, 1, 1, 1, 0, 1, 0, 0, 1, 1, 1, 0, 1, 1, 1,\n",
              "       0, 0, 0, 1, 0, 0, 0, 0, 0, 0, 1, 0, 0, 1, 0, 0, 0, 0, 0, 1, 1, 1,\n",
              "       0, 0, 1, 0, 1, 0, 1, 0, 0, 1, 0, 0, 0, 1, 0, 1, 0, 0, 1, 1, 0, 0,\n",
              "       0, 1, 1, 1, 1, 0, 0, 1, 1, 1, 1, 0, 1, 0, 0, 0, 1, 1, 1, 0, 0, 1,\n",
              "       1, 0, 0, 1, 1, 1, 0, 1, 1, 0, 1, 1, 0, 1, 1, 0, 0, 1, 0, 0, 0, 1,\n",
              "       1, 1, 0, 0, 1, 0, 1, 1, 1, 1, 0, 0, 1, 0, 1, 1, 1, 1, 0, 1, 0, 1,\n",
              "       1, 1, 1, 1, 1, 0, 0, 1, 0, 1, 1, 1, 0, 1, 1, 1, 1, 1])"
            ]
          },
          "metadata": {
            "tags": []
          },
          "execution_count": 43
        }
      ]
    },
    {
      "cell_type": "code",
      "metadata": {
        "id": "IrDSCu2hwN9H"
      },
      "source": [
        "from tensorflow.keras.models import load_model\n",
        "from tensorflow.keras.preprocessing import image\n"
      ],
      "execution_count": null,
      "outputs": []
    },
    {
      "cell_type": "code",
      "metadata": {
        "id": "6uyxwTg8x2_U"
      },
      "source": [
        "model=load_model('model_inception.h5')"
      ],
      "execution_count": null,
      "outputs": []
    },
    {
      "cell_type": "code",
      "metadata": {
        "id": "100NgE8oQEqS"
      },
      "source": [
        "from IPython.display import display, Javascript\n",
        "from google.colab.output import eval_js\n",
        "from base64 import b64decode\n",
        "\n",
        "def take_photo(filename='photo.jpg', quality=0.8):\n",
        "  js = Javascript('''\n",
        "    async function takePhoto(quality) {\n",
        "      const div = document.createElement('div');\n",
        "      const capture = document.createElement('button');\n",
        "      capture.textContent = 'Capture';\n",
        "      div.appendChild(capture);\n",
        "\n",
        "      const video = document.createElement('video');\n",
        "      video.style.display = 'block';\n",
        "      const stream = await navigator.mediaDevices.getUserMedia({video: true});\n",
        "\n",
        "      document.body.appendChild(div);\n",
        "      div.appendChild(video);\n",
        "      video.srcObject = stream;\n",
        "      await video.play();\n",
        "\n",
        "      // Resize the output to fit the video element.\n",
        "      google.colab.output.setIframeHeight(document.documentElement.scrollHeight, true);\n",
        "\n",
        "      // Wait for Capture to be clicked.\n",
        "      await new Promise((resolve) => capture.onclick = resolve);\n",
        "\n",
        "      const canvas = document.createElement('canvas');\n",
        "      canvas.width = video.videoWidth;\n",
        "      canvas.height = video.videoHeight;\n",
        "      canvas.getContext('2d').drawImage(video, 0, 0);\n",
        "      stream.getVideoTracks()[0].stop();\n",
        "      div.remove();\n",
        "      return canvas.toDataURL('image/jpeg', quality);\n",
        "    }\n",
        "    ''')\n",
        "  display(js)\n",
        "  data = eval_js('takePhoto({})'.format(quality))\n",
        "  binary = b64decode(data.split(',')[1])\n",
        "  with open(filename, 'wb') as f:\n",
        "    f.write(binary)\n",
        "  return filename"
      ],
      "execution_count": null,
      "outputs": []
    },
    {
      "cell_type": "code",
      "metadata": {
        "colab": {
          "base_uri": "https://localhost:8080/",
          "height": 514
        },
        "id": "HPieEUJfQEqV",
        "outputId": "25c4bf15-c7b6-4e1f-9e98-39279b3ef909"
      },
      "source": [
        "from IPython.display import Image\n",
        "try:\n",
        "  filename = take_photo()\n",
        "  print('Saved to {}'.format(filename))\n",
        "  \n",
        "  # Show the image which was just taken.\n",
        "  display(Image(filename))\n",
        "except Exception as err:\n",
        "  # Errors will be thrown if the user does not have a webcam or if they do not\n",
        "  # grant the page permission to access it.\n",
        "  print(str(err))"
      ],
      "execution_count": null,
      "outputs": [
        {
          "output_type": "display_data",
          "data": {
            "application/javascript": [
              "\n",
              "    async function takePhoto(quality) {\n",
              "      const div = document.createElement('div');\n",
              "      const capture = document.createElement('button');\n",
              "      capture.textContent = 'Capture';\n",
              "      div.appendChild(capture);\n",
              "\n",
              "      const video = document.createElement('video');\n",
              "      video.style.display = 'block';\n",
              "      const stream = await navigator.mediaDevices.getUserMedia({video: true});\n",
              "\n",
              "      document.body.appendChild(div);\n",
              "      div.appendChild(video);\n",
              "      video.srcObject = stream;\n",
              "      await video.play();\n",
              "\n",
              "      // Resize the output to fit the video element.\n",
              "      google.colab.output.setIframeHeight(document.documentElement.scrollHeight, true);\n",
              "\n",
              "      // Wait for Capture to be clicked.\n",
              "      await new Promise((resolve) => capture.onclick = resolve);\n",
              "\n",
              "      const canvas = document.createElement('canvas');\n",
              "      canvas.width = video.videoWidth;\n",
              "      canvas.height = video.videoHeight;\n",
              "      canvas.getContext('2d').drawImage(video, 0, 0);\n",
              "      stream.getVideoTracks()[0].stop();\n",
              "      div.remove();\n",
              "      return canvas.toDataURL('image/jpeg', quality);\n",
              "    }\n",
              "    "
            ],
            "text/plain": [
              "<IPython.core.display.Javascript object>"
            ]
          },
          "metadata": {
            "tags": []
          }
        },
        {
          "output_type": "stream",
          "text": [
            "Saved to photo.jpg\n"
          ],
          "name": "stdout"
        },
        {
          "output_type": "display_data",
          "data": {
            "image/jpeg": "[encoded data removed]",
            "text/plain": [
              "<IPython.core.display.Image object>"
            ]
          },
          "metadata": {
            "tags": []
          }
        }
      ]
    },
    {
      "cell_type": "code",
      "metadata": {
        "id": "AXb8-e9ewRMN"
      },
      "source": [
        "img=image.load_img('/content/drive/MyDrive/Mask test/noMask.jpg',target_size=(224,224))"
      ],
      "execution_count": null,
      "outputs": []
    },
    {
      "cell_type": "code",
      "metadata": {
        "colab": {
          "base_uri": "https://localhost:8080/"
        },
        "id": "C9UgO2kB0pgG",
        "outputId": "ba1160f9-b844-4c38-ed8b-5ad92a8e4a76"
      },
      "source": [
        "x=image.img_to_array(img)\n",
        "x"
      ],
      "execution_count": null,
      "outputs": [
        {
          "output_type": "execute_result",
          "data": {
            "text/plain": [
              "array([[[202., 192., 191.],\n",
              "        [201., 191., 190.],\n",
              "        [201., 193., 190.],\n",
              "        ...,\n",
              "        [237., 226., 220.],\n",
              "        [237., 224., 218.],\n",
              "        [236., 226., 217.]],\n",
              "\n",
              "       [[202., 192., 191.],\n",
              "        [200., 192., 189.],\n",
              "        [202., 194., 191.],\n",
              "        ...,\n",
              "        [235., 224., 218.],\n",
              "        [234., 223., 217.],\n",
              "        [235., 224., 218.]],\n",
              "\n",
              "       [[201., 191., 189.],\n",
              "        [201., 191., 189.],\n",
              "        [201., 193., 190.],\n",
              "        ...,\n",
              "        [233., 224., 217.],\n",
              "        [234., 225., 218.],\n",
              "        [234., 223., 217.]],\n",
              "\n",
              "       ...,\n",
              "\n",
              "       [[151.,  85.,  27.],\n",
              "        [161.,  96.,  38.],\n",
              "        [158.,  93.,  37.],\n",
              "        ...,\n",
              "        [166., 157., 152.],\n",
              "        [165., 157., 154.],\n",
              "        [165., 158., 152.]],\n",
              "\n",
              "       [[162.,  92.,  30.],\n",
              "        [160.,  94.,  34.],\n",
              "        [165.,  96.,  37.],\n",
              "        ...,\n",
              "        [169., 160., 155.],\n",
              "        [168., 159., 154.],\n",
              "        [166., 158., 155.]],\n",
              "\n",
              "       [[167., 100.,  29.],\n",
              "        [169., 104.,  38.],\n",
              "        [168., 101.,  33.],\n",
              "        ...,\n",
              "        [168., 159., 154.],\n",
              "        [164., 159., 156.],\n",
              "        [165., 155., 153.]]], dtype=float32)"
            ]
          },
          "metadata": {
            "tags": []
          },
          "execution_count": 203
        }
      ]
    },
    {
      "cell_type": "code",
      "metadata": {
        "id": "HlmyNC7k041h"
      },
      "source": [
        "x=x/255"
      ],
      "execution_count": null,
      "outputs": []
    },
    {
      "cell_type": "code",
      "metadata": {
        "colab": {
          "base_uri": "https://localhost:8080/"
        },
        "id": "87qpRmci07vX",
        "outputId": "4ab485c0-91d6-4f2d-9f9b-977f0dc8adc2"
      },
      "source": [
        "import numpy as np\n",
        "x=np.expand_dims(x,axis=0)\n",
        "img_data=preprocess_input(x)\n",
        "img_data.shape"
      ],
      "execution_count": null,
      "outputs": [
        {
          "output_type": "execute_result",
          "data": {
            "text/plain": [
              "(1, 224, 224, 3)"
            ]
          },
          "metadata": {
            "tags": []
          },
          "execution_count": 205
        }
      ]
    },
    {
      "cell_type": "code",
      "metadata": {
        "colab": {
          "base_uri": "https://localhost:8080/"
        },
        "id": "3W0aN4kWztMi",
        "outputId": "958d4444-b2e1-44a5-9056-cb85c44e4a1f"
      },
      "source": [
        "img_data"
      ],
      "execution_count": null,
      "outputs": [
        {
          "output_type": "execute_result",
          "data": {
            "text/plain": [
              "array([[[[-0.993787  , -0.99409455, -0.99412537],\n",
              "         [-0.99381775, -0.99412537, -0.9941561 ],\n",
              "         [-0.99381775, -0.9940638 , -0.9941561 ],\n",
              "         ...,\n",
              "         [-0.9927105 , -0.99304885, -0.9932334 ],\n",
              "         [-0.9927105 , -0.99311036, -0.9932949 ],\n",
              "         [-0.9927412 , -0.99304885, -0.99332565]],\n",
              "\n",
              "        [[-0.993787  , -0.99409455, -0.99412537],\n",
              "         [-0.9938485 , -0.99409455, -0.9941869 ],\n",
              "         [-0.993787  , -0.99403304, -0.99412537],\n",
              "         ...,\n",
              "         [-0.992772  , -0.99311036, -0.9932949 ],\n",
              "         [-0.99280274, -0.9931411 , -0.99332565],\n",
              "         [-0.992772  , -0.99311036, -0.9932949 ]],\n",
              "\n",
              "        [[-0.99381775, -0.99412537, -0.9941869 ],\n",
              "         [-0.99381775, -0.99412537, -0.9941869 ],\n",
              "         [-0.99381775, -0.9940638 , -0.9941561 ],\n",
              "         ...,\n",
              "         [-0.99283355, -0.99311036, -0.99332565],\n",
              "         [-0.99280274, -0.9930796 , -0.9932949 ],\n",
              "         [-0.99280274, -0.9931411 , -0.99332565]],\n",
              "\n",
              "        ...,\n",
              "\n",
              "        [[-0.9953556 , -0.9973856 , -0.9991695 ],\n",
              "         [-0.99504805, -0.9970473 , -0.9988312 ],\n",
              "         [-0.9951403 , -0.9971396 , -0.99886197],\n",
              "         ...,\n",
              "         [-0.99489427, -0.99517107, -0.99532485],\n",
              "         [-0.994925  , -0.99517107, -0.99526334],\n",
              "         [-0.994925  , -0.9951403 , -0.99532485]],\n",
              "\n",
              "        [[-0.9950173 , -0.9971703 , -0.99907726],\n",
              "         [-0.9950788 , -0.9971088 , -0.99895424],\n",
              "         [-0.994925  , -0.9970473 , -0.99886197],\n",
              "         ...,\n",
              "         [-0.994802  , -0.9950788 , -0.9952326 ],\n",
              "         [-0.99483275, -0.99510956, -0.99526334],\n",
              "         [-0.99489427, -0.9951403 , -0.9952326 ]],\n",
              "\n",
              "        [[-0.9948635 , -0.9969243 , -0.999108  ],\n",
              "         [-0.994802  , -0.99680126, -0.9988312 ],\n",
              "         [-0.99483275, -0.9968935 , -0.998985  ],\n",
              "         ...,\n",
              "         [-0.99483275, -0.99510956, -0.99526334],\n",
              "         [-0.9949558 , -0.99510956, -0.9952018 ],\n",
              "         [-0.994925  , -0.9952326 , -0.9952941 ]]]], dtype=float32)"
            ]
          },
          "metadata": {
            "tags": []
          },
          "execution_count": 206
        }
      ]
    },
    {
      "cell_type": "code",
      "metadata": {
        "colab": {
          "base_uri": "https://localhost:8080/"
        },
        "id": "wjMD88UV0Cvj",
        "outputId": "23c641e5-da31-4898-d8b4-b08ae46ed46c"
      },
      "source": [
        "model.predict(img_data)"
      ],
      "execution_count": null,
      "outputs": [
        {
          "output_type": "execute_result",
          "data": {
            "text/plain": [
              "array([[0.59558815, 0.14531475]], dtype=float32)"
            ]
          },
          "metadata": {
            "tags": []
          },
          "execution_count": 207
        }
      ]
    },
    {
      "cell_type": "code",
      "metadata": {
        "id": "Z9hc8k5l1BIN"
      },
      "source": [
        "a=np.argmax(model.predict(img_data), axis=1)"
      ],
      "execution_count": null,
      "outputs": []
    },
    {
      "cell_type": "code",
      "metadata": {
        "colab": {
          "base_uri": "https://localhost:8080/"
        },
        "id": "PUlLQbEr1GAK",
        "outputId": "d96f4ce1-3fe0-4c84-bea6-8a4c4efb2df1"
      },
      "source": [
        "a==0"
      ],
      "execution_count": null,
      "outputs": [
        {
          "output_type": "execute_result",
          "data": {
            "text/plain": [
              "array([ True])"
            ]
          },
          "metadata": {
            "tags": []
          },
          "execution_count": 209
        }
      ]
    }
  ]
}